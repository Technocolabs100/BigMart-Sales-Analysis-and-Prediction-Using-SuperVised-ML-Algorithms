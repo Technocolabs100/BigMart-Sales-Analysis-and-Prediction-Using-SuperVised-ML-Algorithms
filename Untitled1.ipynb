{
 "cells": [
  {
   "cell_type": "markdown",
   "id": "588efc70-d68a-4114-ae39-d6ceea73ed2e",
   "metadata": {},
   "source": [
    "## 1. Problem Statement:\n",
    "- Develop a predictive model to estimate the sales of each product at different stores based on the provided data from 2013.\n",
    "- Identify the key factors that influence product sales at specific stores.\n",
    "- Handle missing data due to technical glitches in a structured manner."
   ]
  },
  {
   "cell_type": "markdown",
   "id": "1247a170-8a0b-421d-adb9-580564d12271",
   "metadata": {},
   "source": [
    "## Hypotheses for BigMart Sales Analysis\n",
    "\n",
    "### 1. Item Type and Sales\n",
    "- **Null Hypothesis (H₀):** There is no significant difference in sales between different item types.\n",
    "- **Alternative Hypothesis (Hₐ):** Sales vary significantly across different item types.\n",
    "\n",
    "### 2. Store Location and Sales\n",
    "- **Null Hypothesis (H₀):** There is no significant difference in sales between different store locations.\n",
    "- **Alternative Hypothesis (Hₐ):** Sales vary significantly across different store locations.\n",
    "\n",
    "### 3. Store Size and Sales\n",
    "- **Null Hypothesis (H₀):** There is no significant difference in sales between stores of different sizes.\n",
    "- **Alternative Hypothesis (Hₐ):** Sales vary significantly based on store size.\n",
    "\n",
    "### 4. Item Visibility and Sales\n",
    "- **Null Hypothesis (H₀):** Item visibility does not have a significant impact on sales.\n",
    "- **Alternative Hypothesis (Hₐ):** Item visibility significantly affects sales.\n",
    "\n",
    "### 5. Item MRP and Sales\n",
    "- **Null Hypothesis (H₀):** There is no significant correlation between Item MRP and sales.\n",
    "- **Alternative Hypothesis (Hₐ):** Item MRP is significantly correlated with sales.\n",
    "\n",
    "### 6. Outlet Type and Sales\n",
    "- **Null Hypothesis (H₀):** There is no significant difference in sales across different outlet types.\n",
    "- **Alternative Hypothesis (Hₐ):** Sales vary significantly based on outlet type.\n",
    "\n",
    "## 7. Item Fat Content and Sales\n",
    "- **Null Hypothesis (H₀):** There is no significant difference in sales between items with different fat content.\n",
    "- **Alternative Hypothesis (Hₐ):** Sales vary significantly based on item fat content."
   ]
  },
  {
   "cell_type": "markdown",
   "id": "1c0971a1-3fb7-4799-b429-f5002663e5f3",
   "metadata": {},
   "source": [
    "1. The distribution of Item_Outlet_Sales has positive skewness (1.18). This indicates that the sales distribution is skewed to the right, \n",
    "2. The percentage of null values in Outlet_Size is approximately 28.28%, and for Item_Weight, it's about 17.17%"
   ]
  },
  {
   "cell_type": "markdown",
   "id": "e49df182-bde8-46be-80e5-b8540743a235",
   "metadata": {},
   "source": [
    "## 5).Exploratory Data Analysis\n",
    "## Numerical Columns\n",
    "\n",
    "- Item_Weight\n",
    "- Item_Visibility\n",
    "- Item_MRP\n",
    "- Item_Outlet_Sales\n",
    "\n",
    "## Categorical Columns\n",
    "\n",
    "- Item_Fat_Content\n",
    "- Item_Type\n",
    "- Outlet_Size\n",
    "- Outlet_Location_Type\n",
    "- Outlet_Type\n",
    "- Outlet_Establishment_Year"
   ]
  },
  {
   "cell_type": "markdown",
   "id": "099fffef-b563-4e98-9672-79664cb5c536",
   "metadata": {},
   "source": [
    "### Item_Weight:\n",
    "- The weights of items in the dataset range from **4.56** to **21.35**.\n",
    "- The average (mean) weight is approximately **12.86**.\n",
    "- The majority of items (50%) have a weight less than **12.6**, and 75% have a weight less than **16.85**.\n",
    "\n",
    "### Item_Visibility:\n",
    "- The visibility of items in the dataset varies from **0.0** to **0.33**.\n",
    "- On average, the visibility of items is **0.066**, suggesting that items are, on average, visible about 6.6% of the time.\n",
    "- The majority of items (50%) have visibility less than **0.054**, and 75% have visibility less than **0.095**.\n",
    "\n",
    "### Item_MRP:\n",
    "- The Maximum Retail Prices (MRP) of items range from **31.29** to **266.89**.\n",
    "- The average MRP is approximately **140.99**.\n",
    "- The middle 50% of items have an MRP between **93.83** and **185.64**.\n",
    "\n",
    "### Item_Outlet_Sales:\n",
    "- Item outlet sales vary widely, ranging from **33.29** to **13086.96**.\n",
    "- The average sales amount is approximately **2181.29**.\n",
    "- The middle 50% of items have sales amounts between **834.25** and **3101.30**.\n"
   ]
  },
  {
   "cell_type": "markdown",
   "id": "3f09a693-9384-40fd-a9ba-7ad0cc5b0b83",
   "metadata": {},
   "source": [
    "# Categorical Columns:\n",
    "\n",
    "## Item_Fat_Content:\n",
    "- Low Fat products contribute higher total sales compared to Regular products.\n",
    "\n",
    "## Item_Type:\n",
    "- The top-selling item types are \"Fruits and Vegetables\" and \"Snack Foods.\"\n",
    "- \"Seafood\" and \"Breakfast\" have the lowest total sales.\n",
    "\n",
    "## Outlet_Size:\n",
    "- Medium-sized outlets have the highest total sales, followed by Small and High.\n",
    "\n",
    "## Outlet_Location_Type:\n",
    "- Tier 3 locations have the highest total sales, followed by Tier 2 and Tier 1.\n",
    "\n",
    "## Outlet_Type:\n",
    "- \"Supermarket Type1\" contributes significantly to total sales.\n",
    "- \"Grocery Store\" has the lowest total sales.\n",
    "\n",
    "## Outlet_Establishment_Year:\n",
    "- Outlets established in 1985 have the highest total sales.\n",
    "- Outlets established in 1998 have the lowest total sales.\n",
    "\n",
    "# Numerical Columns:\n",
    "\n",
    "## Item_Weight:\n",
    "- The item with the maximum weight (21.35) has the identifier FDC02.\n",
    "\n",
    "## Item_Visibility:\n",
    "- The item with the maximum visibility (0.188323) has the identifier FDU13.\n",
    "\n",
    "## Item_MRP:\n",
    "- The item with the highest Maximum Retail Price (MRP) is FDR25.\n",
    "\n",
    "## Item_Outlet_Sales:\n",
    "- The item with the highest total sales is FDF39, with sales of $10,256.65.\n"
   ]
  },
  {
   "cell_type": "code",
   "execution_count": null,
   "id": "97c7fba0-731a-4c9c-99f5-e356490ea869",
   "metadata": {},
   "outputs": [],
   "source": []
  }
 ],
 "metadata": {
  "kernelspec": {
   "display_name": "Python 3 (ipykernel)",
   "language": "python",
   "name": "python3"
  },
  "language_info": {
   "codemirror_mode": {
    "name": "ipython",
    "version": 3
   },
   "file_extension": ".py",
   "mimetype": "text/x-python",
   "name": "python",
   "nbconvert_exporter": "python",
   "pygments_lexer": "ipython3",
   "version": "3.10.13"
  }
 },
 "nbformat": 4,
 "nbformat_minor": 5
}
